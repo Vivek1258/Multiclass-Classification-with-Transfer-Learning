{
  "nbformat": 4,
  "nbformat_minor": 0,
  "metadata": {
    "colab": {
      "name": "Vivek_Flower_Classification Complete the proj.ipynb",
      "provenance": [],
      "collapsed_sections": []
    },
    "kernelspec": {
      "name": "python3",
      "display_name": "Python 3"
    },
    "accelerator": "GPU"
  },
  "cells": [
    {
      "cell_type": "code",
      "metadata": {
        "id": "G9CZLujOKBMc"
      },
      "source": [
        "# Problem Statement     : Classify different types of flowers \n",
        "\n",
        "# Solution Proposal     : Developing and Deploying a Deep Learning CNN model to Classify the 104 types of flowers using Kaggle compitation data .\n",
        "\n",
        "# Solution outcome      : After proper data preprocessing and using  VGG19 model (Transfer Learning) the accuracy achieved is ::: ==  98 % \n",
        "\n",
        "# Solution explaination : The Solution mainly consists of two parts : \n",
        "#                     \n",
        "#                          1) Data Preprocessing \n",
        "#                          2) Selecting and Developing an appropriate model \n",
        "#                          3) Training and Testing of the model on the data \n",
        "#                          \n",
        "\n"
      ],
      "execution_count": null,
      "outputs": []
    },
    {
      "cell_type": "markdown",
      "metadata": {
        "id": "si9c4yX3U7Xg"
      },
      "source": [
        "# STEP 1 : DATA PREPROCESSING \n",
        "\n"
      ]
    },
    {
      "cell_type": "code",
      "metadata": {
        "id": "G_pdbvuEU3-5"
      },
      "source": [
        "# STEP 1 : DATA PREPROCESSING \n"
      ],
      "execution_count": null,
      "outputs": []
    },
    {
      "cell_type": "code",
      "metadata": {
        "id": "i473DvoCU_wA",
        "colab": {
          "base_uri": "https://localhost:8080/",
          "height": 34
        },
        "outputId": "0f91806d-722a-498c-fbb0-20cb134adf49"
      },
      "source": [
        "from google.colab import drive\n",
        "drive.mount('/content/gdrive')\n"
      ],
      "execution_count": null,
      "outputs": [
        {
          "output_type": "stream",
          "text": [
            "Drive already mounted at /content/gdrive; to attempt to forcibly remount, call drive.mount(\"/content/gdrive\", force_remount=True).\n"
          ],
          "name": "stdout"
        }
      ]
    },
    {
      "cell_type": "code",
      "metadata": {
        "id": "pgnUCQhZVCFp",
        "colab": {
          "resources": {
            "http://localhost:8080/nbextensions/google.colab/files.js": {
              "data": "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",
              "ok": true,
              "headers": [
                [
                  "content-type",
                  "application/javascript"
                ]
              ],
              "status": 200,
              "status_text": ""
            }
          },
          "base_uri": "https://localhost:8080/",
          "height": 91
        },
        "outputId": "c64593b9-82dd-4685-a151-63ee103cbc53"
      },
      "source": [
        "\n",
        "from google.colab import files\n",
        "files.upload() #this will prompt  to update the json\n",
        "\n",
        "!pip install -q kaggle\n",
        "!mkdir -p ~/.kaggle\n",
        "\n",
        "!cp kaggle.json ~/.kaggle/\n",
        "!ls ~/.kaggle\n",
        "!chmod 600 /root/.kaggle/kaggle.json  # set permission"
      ],
      "execution_count": null,
      "outputs": [
        {
          "output_type": "display_data",
          "data": {
            "text/html": [
              "\n",
              "     <input type=\"file\" id=\"files-e760801d-e6b6-495d-978b-49e626ec7d42\" name=\"files[]\" multiple disabled />\n",
              "     <output id=\"result-e760801d-e6b6-495d-978b-49e626ec7d42\">\n",
              "      Upload widget is only available when the cell has been executed in the\n",
              "      current browser session. Please rerun this cell to enable.\n",
              "      </output>\n",
              "      <script src=\"/nbextensions/google.colab/files.js\"></script> "
            ],
            "text/plain": [
              "<IPython.core.display.HTML object>"
            ]
          },
          "metadata": {
            "tags": []
          }
        },
        {
          "output_type": "stream",
          "text": [
            "Saving kaggle.json to kaggle.json\n",
            "kaggle.json\n"
          ],
          "name": "stdout"
        }
      ]
    },
    {
      "cell_type": "code",
      "metadata": {
        "id": "oR_cyg7VVL3f",
        "colab": {
          "base_uri": "https://localhost:8080/",
          "height": 67
        },
        "outputId": "dde7c2e7-2d18-4cb9-cc9b-b7f724712b15"
      },
      "source": [
        "!kaggle datasets download -d ianmoone0617/flower-goggle-tpu-classification \n"
      ],
      "execution_count": null,
      "outputs": [
        {
          "output_type": "stream",
          "text": [
            "Downloading flower-goggle-tpu-classification.zip to /content\n",
            " 98% 258M/264M [00:01<00:00, 175MB/s]\n",
            "100% 264M/264M [00:01<00:00, 165MB/s]\n"
          ],
          "name": "stdout"
        }
      ]
    },
    {
      "cell_type": "code",
      "metadata": {
        "id": "Eqa5yJ5WVY7h"
      },
      "source": [
        "\n",
        "import os\n",
        "os.chdir('/content')  #change dir\n",
        "\n",
        "\n",
        "!mkdir flower_data  #create a directory \n",
        "\n",
        "!unzip -q flower-goggle-tpu-classification.zip -d flower_data # unzip the data "
      ],
      "execution_count": null,
      "outputs": []
    },
    {
      "cell_type": "code",
      "metadata": {
        "id": "cpcCazz9Va6M"
      },
      "source": [
        "# B) Understanding the data "
      ],
      "execution_count": null,
      "outputs": []
    },
    {
      "cell_type": "code",
      "metadata": {
        "id": "TpVsbdDWVdst"
      },
      "source": [
        "##   IMPORTS :::\n",
        "\n",
        "\n",
        "import os \n",
        "import pandas as pd \n",
        "import matplotlib.pyplot as plt\n",
        "import warnings\n",
        "warnings.simplefilter(\"ignore\")\n"
      ],
      "execution_count": null,
      "outputs": []
    },
    {
      "cell_type": "code",
      "metadata": {
        "id": "RD_xbsYZVgId",
        "colab": {
          "base_uri": "https://localhost:8080/",
          "height": 34
        },
        "outputId": "df1a8d07-cfe1-47c3-97cb-06bf6a13fe44"
      },
      "source": [
        "# lets check the data \n",
        "\n",
        "os.chdir('/content/flower_data')\n",
        "\n",
        "os.listdir('/content/flower_data/') # to list the files in the directory "
      ],
      "execution_count": null,
      "outputs": [
        {
          "output_type": "execute_result",
          "data": {
            "text/plain": [
              "['flower_tpu', 'flowers_idx.csv', 'flowers_label.csv']"
            ]
          },
          "metadata": {
            "tags": []
          },
          "execution_count": 10
        }
      ]
    },
    {
      "cell_type": "code",
      "metadata": {
        "id": "so42IyJ1ViZG"
      },
      "source": [
        "\n",
        "\n",
        "flowers_idx = pd.read_csv(\"/content/flower_data/flowers_idx.csv\")\n",
        "\n",
        "flowers_label = pd.read_csv(\"/content/flower_data/flowers_label.csv\")\n"
      ],
      "execution_count": null,
      "outputs": []
    },
    {
      "cell_type": "code",
      "metadata": {
        "id": "qg8IUEZAVkHk",
        "colab": {
          "base_uri": "https://localhost:8080/",
          "height": 402
        },
        "outputId": "e8e1b9b5-8ea8-42bb-e13c-b1e8e80252c5"
      },
      "source": [
        "\n",
        "# Group the dataframe according to the flower type \n",
        "flowers = flowers_idx.groupby(flowers_idx[\"flower_cls\"]) \n",
        "\n",
        "flowers.head()"
      ],
      "execution_count": null,
      "outputs": [
        {
          "output_type": "execute_result",
          "data": {
            "text/html": [
              "<div>\n",
              "<style scoped>\n",
              "    .dataframe tbody tr th:only-of-type {\n",
              "        vertical-align: middle;\n",
              "    }\n",
              "\n",
              "    .dataframe tbody tr th {\n",
              "        vertical-align: top;\n",
              "    }\n",
              "\n",
              "    .dataframe thead th {\n",
              "        text-align: right;\n",
              "    }\n",
              "</style>\n",
              "<table border=\"1\" class=\"dataframe\">\n",
              "  <thead>\n",
              "    <tr style=\"text-align: right;\">\n",
              "      <th></th>\n",
              "      <th>id</th>\n",
              "      <th>flower_cls</th>\n",
              "    </tr>\n",
              "  </thead>\n",
              "  <tbody>\n",
              "    <tr>\n",
              "      <th>0</th>\n",
              "      <td>7486</td>\n",
              "      <td>cape flower</td>\n",
              "    </tr>\n",
              "    <tr>\n",
              "      <th>1</th>\n",
              "      <td>9454</td>\n",
              "      <td>cape flower</td>\n",
              "    </tr>\n",
              "    <tr>\n",
              "      <th>2</th>\n",
              "      <td>6974</td>\n",
              "      <td>cape flower</td>\n",
              "    </tr>\n",
              "    <tr>\n",
              "      <th>3</th>\n",
              "      <td>4739</td>\n",
              "      <td>cape flower</td>\n",
              "    </tr>\n",
              "    <tr>\n",
              "      <th>4</th>\n",
              "      <td>8783</td>\n",
              "      <td>cape flower</td>\n",
              "    </tr>\n",
              "    <tr>\n",
              "      <th>...</th>\n",
              "      <td>...</td>\n",
              "      <td>...</td>\n",
              "    </tr>\n",
              "    <tr>\n",
              "      <th>12493</th>\n",
              "      <td>8242</td>\n",
              "      <td>windflower</td>\n",
              "    </tr>\n",
              "    <tr>\n",
              "      <th>12494</th>\n",
              "      <td>11772</td>\n",
              "      <td>windflower</td>\n",
              "    </tr>\n",
              "    <tr>\n",
              "      <th>12495</th>\n",
              "      <td>8782</td>\n",
              "      <td>windflower</td>\n",
              "    </tr>\n",
              "    <tr>\n",
              "      <th>12496</th>\n",
              "      <td>11333</td>\n",
              "      <td>windflower</td>\n",
              "    </tr>\n",
              "    <tr>\n",
              "      <th>12497</th>\n",
              "      <td>2973</td>\n",
              "      <td>windflower</td>\n",
              "    </tr>\n",
              "  </tbody>\n",
              "</table>\n",
              "<p>520 rows × 2 columns</p>\n",
              "</div>"
            ],
            "text/plain": [
              "          id   flower_cls\n",
              "0       7486  cape flower\n",
              "1       9454  cape flower\n",
              "2       6974  cape flower\n",
              "3       4739  cape flower\n",
              "4       8783  cape flower\n",
              "...      ...          ...\n",
              "12493   8242   windflower\n",
              "12494  11772   windflower\n",
              "12495   8782   windflower\n",
              "12496  11333   windflower\n",
              "12497   2973   windflower\n",
              "\n",
              "[520 rows x 2 columns]"
            ]
          },
          "metadata": {
            "tags": []
          },
          "execution_count": 12
        }
      ]
    },
    {
      "cell_type": "code",
      "metadata": {
        "id": "JTl1hR5SVmjh",
        "colab": {
          "base_uri": "https://localhost:8080/",
          "height": 104
        },
        "outputId": "a0aa7d16-52d0-4c9a-9de4-57722dd70a61"
      },
      "source": [
        "#  Understanding the number of datapoints for each example \n",
        "\n",
        "data = dict()\n",
        "for mg in flowers:\n",
        "\n",
        "  data[mg[0]] = mg[1]\n",
        " \n",
        " \n",
        "l = [len(data[key]) for key in data.keys()]\n",
        "\n",
        "for v in data.keys():\n",
        "  print(len(data[v]))\n",
        "  break\n",
        "\n",
        "print(l)\n",
        "\n",
        "print(\"the maximum examples of one type of flower is ::  \"  ,    max(l))\n",
        "\n",
        "print(\"the minimum examples of one type of flower is ::  \"  ,    min(l))\n"
      ],
      "execution_count": null,
      "outputs": [
        {
          "output_type": "stream",
          "text": [
            "23\n",
            "[23, 152, 153, 177, 116, 82, 143, 136, 75, 120, 32, 31, 23, 169, 44, 337, 71, 164, 59, 26, 74, 136, 35, 130, 56, 145, 727, 504, 107, 26, 189, 124, 545, 40, 25, 180, 198, 62, 31, 115, 134, 81, 34, 108, 27, 109, 34, 33, 173, 137, 1010, 37, 119, 94, 48, 180, 30, 155, 129, 162, 53, 112, 23, 395, 46, 42, 154, 64, 259, 124, 351, 31, 75, 142, 148, 27, 71, 25, 594, 47, 24, 36, 176, 340, 27, 44, 594, 27, 141, 81, 161, 112, 111, 38, 121, 40, 222, 216, 124, 908, 135, 959, 336, 293]\n",
            "the maximum examples of one type of flower is ::   1010\n",
            "the minimum examples of one type of flower is ::   23\n"
          ],
          "name": "stdout"
        }
      ]
    },
    {
      "cell_type": "code",
      "metadata": {
        "id": "HnlTL35BVo3T",
        "colab": {
          "base_uri": "https://localhost:8080/",
          "height": 614
        },
        "outputId": "d78fd909-549d-4b1d-eea1-f0a17994602d"
      },
      "source": [
        "# lets visualize the data \n",
        "\n",
        "# from the list \"l\" it is cleard thet the data is \"\"highly biased\"\" \n",
        "\n",
        "# if trained on such data it will make the neural network less robust to the new images \n",
        "\n",
        "# for good traning the no of data points for each example should be equal/or near to that \n",
        "\n",
        "# let’s decide a common threshold, and make the no. of data points for each sample equal to that threshold \n",
        "\n",
        "# lets take the value as mean of  no of samples of the data \n",
        "\n",
        "mean = sum(l)/len(l)  # here mean = 150 \n",
        " \n",
        "print(\"Mean of  no of samples of the data  :: \" , mean )\n",
        "print(\"\\n\\n\\n\\n\")\n",
        "\n",
        "k = list()\n",
        "for i in range(len(l)):\n",
        "  k.append(300) # twice of mean   \n",
        "\n",
        "# ploting the data \n",
        "\n",
        "plt.figure(figsize=(8,8))\n",
        "plt.plot(l , label='The data variation we have ' )\n",
        "plt.plot(k , label='The data variation we want')\n",
        "plt.xlabel(\"flower index\")\n",
        "plt.ylabel(\"No. of data points \")\n",
        "plt.title(\"The DATA\")\n",
        "plt.legend()\n",
        "plt.show()\n",
        "\n",
        "\n"
      ],
      "execution_count": null,
      "outputs": [
        {
          "output_type": "stream",
          "text": [
            "Mean of  no of samples of the data  ::  158.31730769230768\n",
            "\n",
            "\n",
            "\n",
            "\n",
            "\n"
          ],
          "name": "stdout"
        },
        {
          "output_type": "display_data",
          "data": {
            "image/png": "[encoded data removed]",
            "text/plain": [
              "<Figure size 576x576 with 1 Axes>"
            ]
          },
          "metadata": {
            "tags": []
          }
        }
      ]
    },
    {
      "cell_type": "code",
      "metadata": {
        "id": "VtKWB0uqVreF"
      },
      "source": [
        "# C) DATA preprocessing \n",
        "\n",
        "# From the above figure it is clear that :\n",
        "# 1) We need to clip the data for the flowers whose data length is above the mean \n",
        "# 2) We need to augment the data for the flowers whose data length is below the mean "
      ],
      "execution_count": null,
      "outputs": []
    },
    {
      "cell_type": "code",
      "metadata": {
        "id": "YZRH6gR5VuBG"
      },
      "source": [
        "##  IMPORTS ::\n",
        "\n",
        "import random\n",
        "from scipy import ndarray\n",
        "\n",
        "# image processing library for image operations (like image trasnformations .. etc)\n",
        "import skimage as sk\n",
        "from skimage import transform\n",
        "from skimage import util\n",
        "from skimage import io\n",
        "\n",
        "import PIL \n",
        "from PIL import Image \n",
        "\n",
        "# for Image data generation from the directory \n",
        "\n",
        "from tensorflow.keras.preprocessing import image\n",
        "from tensorflow.keras.applications.mobilenet import preprocess_input\n",
        "from tensorflow.keras.preprocessing.image import ImageDataGenerator\n",
        "\n",
        "\n",
        "\n"
      ],
      "execution_count": null,
      "outputs": []
    },
    {
      "cell_type": "code",
      "metadata": {
        "id": "WcblLXttVvqz"
      },
      "source": [
        "# Lets create a dictonary which will map the image id to its location in the data set \n",
        "\n",
        "\n",
        "img_path = dict()\n",
        "\n",
        "img_dir = \"/content/flower_data/flower_tpu/flower_tpu/flowers_google/flowers_google\"\n",
        "\n",
        "for name in os.listdir(img_dir):\n",
        "  # load an image from file\n",
        "  filename =  img_dir + '/' + name\n",
        "\n",
        "  image_id = name.split('.')[0]\n",
        "\n",
        "  img_path[image_id] = filename\n",
        "\n",
        "\n",
        "# print(img_path['2740'])\n"
      ],
      "execution_count": null,
      "outputs": []
    },
    {
      "cell_type": "code",
      "metadata": {
        "id": "32kruTR8Vx_j"
      },
      "source": [
        "# Functions for the data augmentation \n",
        "\n",
        "\n",
        "def random_rotation(image_array: ndarray):\n",
        "    # pick a random degree of rotation between 25% on the left and 25% on the right\n",
        "    random_degree = random.uniform(-25, 25)\n",
        "    return sk.transform.rotate(image_array, random_degree)\n",
        "\n",
        "def random_noise(image_array: ndarray): \n",
        "    # add random noise to the image \n",
        "    # Adding a random noise to the image for the data augmentation would help to make our Neural Network more robust to the unknown data \n",
        "    return sk.util.random_noise(image_array)\n",
        "\n",
        "def horizontal_flip(image_array: ndarray):\n",
        "    # horizontal flip doesn't need skimage, it's easy as flipping the image array of pixels !\n",
        "    return image_array[:, ::-1]\n",
        "\n",
        "# dictionary of the transformations we defined earlier\n",
        "available_transformations = {\n",
        "    'rotate': random_rotation,\n",
        "    'noise': random_noise,\n",
        "    'horizontal_flip': horizontal_flip\n",
        "}"
      ],
      "execution_count": null,
      "outputs": []
    },
    {
      "cell_type": "code",
      "metadata": {
        "id": "KPTIUi15V0GX"
      },
      "source": [
        "# defining the main functions i.e. : \"D_aug\" ( for data augmentation)  and \"D_clip\" ( for data clipping ) \n",
        "\n",
        "# Return type  :  A list contaning the locations of the images \n",
        "import warnings\n",
        "warnings.simplefilter(\"ignore\")\n",
        "\n",
        "def get_file_byID(ids):\n",
        "  l = list()\n",
        "  for id in ids :\n",
        "    l.append(img_path[str(id)])\n",
        "  return l\n",
        "\n",
        "def D_aug(dataframe , name  , req_length = 300 ):\n",
        "  #print(\"in the function D_aug   ::  1  \\n\")\n",
        "  ids   = dataframe[\"id\"]   \n",
        "  imagesf = get_file_byID(ids)\n",
        "\n",
        "  #print(\"in the function D_aug   ::  2  \\n\")\n",
        "\n",
        "\n",
        "\n",
        "  folder_path = \"/content\"\n",
        "\n",
        "  new_img_file = list()\n",
        "  num_files_desired = req_length - len(dataframe[\"id\"])\n",
        " \n",
        "  num_generated_files = 0\n",
        "\n",
        "  while num_generated_files <= num_files_desired:\n",
        "        # random image from the folder\n",
        "        image_path = random.choice(imagesf)\n",
        "        # read image as an two dimensional array of pixels\n",
        "        image_to_transform = sk.io.imread(image_path)\n",
        "        # random num of transformation to apply\n",
        "        num_transformations_to_apply = random.randint(1, len(available_transformations))\n",
        "\n",
        "        num_transformations = 0\n",
        "        transformed_image = None\n",
        "        while num_transformations <= num_transformations_to_apply:\n",
        "            # random transformation to apply for a single image\n",
        "            key = random.choice(list(available_transformations))\n",
        "            transformed_image = available_transformations[key](image_to_transform)\n",
        "            num_transformations += 1\n",
        "          \n",
        "        num_generated_files += 1\n",
        "        new_file_path = '%s/%s_%s.jpg' % (folder_path,  name , num_generated_files)\n",
        "\n",
        "        new_img_file.append(new_file_path)\n",
        "\n",
        "        # write image to the disk\n",
        "        io.imsave(new_file_path, transformed_image)\n",
        "        #print(\"done img aug \\n\")\n",
        "\n",
        "  return imagesf + new_img_file\n",
        "\n",
        "\n",
        "def D_clip(dataframe , req_length = 300 ):\n",
        "  ids   = dataframe[\"id\"]  \n",
        "  imagesf = get_file_byID(ids)\n",
        "  final_image_file = list()\n",
        "  for i in range(req_length):\n",
        "    final_image_file.append(random.choice(imagesf))\n",
        "  print(\"done img clip \\n\")\n",
        "  return final_image_file\n",
        "\n",
        "\n",
        "\n",
        "\n"
      ],
      "execution_count": null,
      "outputs": []
    },
    {
      "cell_type": "code",
      "metadata": {
        "id": "ssJ-0dsL7IS9"
      },
      "source": [
        "\n",
        "import warnings\n",
        "warnings.simplefilter(\"ignore\")\n",
        "\n",
        "# lets augment the data to  make the number of examples of each flower type constant (i.e.   lets say : the mean  )\n",
        "# here we will increase the data size of the flowers whose data length is less than 150  and Decrease the data size of flowers whose data is greater than 150\n",
        "img_data = dict()\n",
        "for key in data.keys():\n",
        "  if len(data[key]) < 150 :\n",
        "    img_data[key] = D_aug(data[key]  , key , 300 ) \n",
        "  else :\n",
        "    img_data[key] = D_clip(data[key] , 300)  \n",
        "  \n",
        " "
      ],
      "execution_count": null,
      "outputs": []
    },
    {
      "cell_type": "code",
      "metadata": {
        "id": "TTKcpvPdV2S6"
      },
      "source": [
        ""
      ],
      "execution_count": null,
      "outputs": []
    },
    {
      "cell_type": "code",
      "metadata": {
        "id": "yZuPMYMkV7_e",
        "colab": {
          "base_uri": "https://localhost:8080/",
          "height": 110
        },
        "outputId": "9930cacc-1c97-4241-a064-f972cc2fbcfb"
      },
      "source": [
        "# lets make two floders train and dev  in the main folder pro_data\n",
        "\n",
        "# The Train/Test  folder will contain the folders ( of names of flowers )\n",
        "\n",
        "# and then each folder will have the images of that flowers \n",
        "\n",
        "# here is the visual explanation \n",
        "\n",
        "from IPython.display import Image\n",
        "Image(\"/content/gdrive/My Drive/img2.PNG\" )\n"
      ],
      "execution_count": null,
      "outputs": [
        {
          "output_type": "execute_result",
          "data": {
            "image/png": "[encoded data removed]",
            "text/plain": [
              "<IPython.core.display.Image object>"
            ]
          },
          "metadata": {
            "tags": []
          },
          "execution_count": 21
        }
      ]
    },
    {
      "cell_type": "code",
      "metadata": {
        "id": "8rwE71iGWKDl",
        "colab": {
          "base_uri": "https://localhost:8080/",
          "height": 399
        },
        "outputId": "f905fef1-2b11-476a-cff1-90a2b39d6d2f"
      },
      "source": [
        "Image(\"/content/gdrive/My Drive/img1.PNG\" )"
      ],
      "execution_count": null,
      "outputs": [
        {
          "output_type": "execute_result",
          "data": {
            "image/png": "[encoded data removed]",
            "text/plain": [
              "<IPython.core.display.Image object>"
            ]
          },
          "metadata": {
            "tags": []
          },
          "execution_count": 22
        }
      ]
    },
    {
      "cell_type": "code",
      "metadata": {
        "id": "6NN17wPO8by7"
      },
      "source": [
        "\n",
        "#import shutil \n",
        "#shutil.rmtree('/content/pro_data') "
      ],
      "execution_count": null,
      "outputs": []
    },
    {
      "cell_type": "code",
      "metadata": {
        "id": "8tIMoVWfWM3W"
      },
      "source": [
        "\n",
        "# Importing Image module from PIL package  \n",
        " \n",
        "from PIL import Image \n",
        "\n",
        "os.chdir('/content')\n",
        "\n",
        "!mkdir pro_data\n",
        "os.chdir('/content/pro_data')\n",
        "\n",
        "!mkdir train\n",
        "\n",
        "os.chdir('./train')\n",
        "\n",
        "\n",
        "for key in img_data.keys()  :\n",
        "    \n",
        "    \n",
        "\n",
        "    os.mkdir(key)\n",
        "     \n",
        "    m =img_data[key][:(int(0.8*len(img_data[key])))]\n",
        "\n",
        "    os.chdir('/content/pro_data/train/' + str(key))\n",
        "    for j in range (len(m)):\n",
        "      # creating a image object (main image)  \n",
        "      im1 = Image.open(m[j])  \n",
        "      \n",
        "      # save a image using extension \n",
        "      im1 = im1.save(str(key) + str(j) + \".jpeg\") \n",
        "    os.chdir('/content/pro_data/train')\n",
        "\n",
        "\n",
        "\n"
      ],
      "execution_count": null,
      "outputs": []
    },
    {
      "cell_type": "code",
      "metadata": {
        "id": "3XvAhVPKWOzl"
      },
      "source": [
        "\n",
        "os.chdir('/content/pro_data')\n",
        "\n",
        "!mkdir Dev\n",
        "\n",
        "os.chdir('/content/pro_data/Dev')\n",
        "\n",
        "\n",
        "for key in img_data.keys()  :\n",
        "    \n",
        "    \n",
        "\n",
        "    os.mkdir(key)\n",
        "\n",
        "    m =img_data[key][(int(0.8*len(img_data[key]))):]\n",
        "\n",
        "    os.chdir('/content/pro_data/Dev/' + str(key))\n",
        "    for j in range (len(m)):\n",
        "      # creating a image object (main image)  \n",
        "      im1 = Image.open(m[j])  \n",
        "      \n",
        "      # save a image using extension \n",
        "      im1 = im1.save(str(key) + str(j) + \".jpeg\") \n",
        "    os.chdir('/content/pro_data/Dev')\n",
        "\n",
        "\n"
      ],
      "execution_count": null,
      "outputs": []
    },
    {
      "cell_type": "code",
      "metadata": {
        "id": "XVnO-lRhWRCF",
        "colab": {
          "base_uri": "https://localhost:8080/",
          "height": 50
        },
        "outputId": "7cd8626f-e6a5-439a-98a8-5d0e5c278ac6"
      },
      "source": [
        "\n",
        "\n",
        "train_datagen=ImageDataGenerator(preprocessing_function=preprocess_input) #included in our dependencies\n",
        "train_generator=train_datagen.flow_from_directory(\n",
        "'/content/pro_data/train',\n",
        "target_size=(224,224),\n",
        "color_mode='rgb',\n",
        "batch_size=128,\n",
        "class_mode='categorical',\n",
        "shuffle=True)\n",
        "test_datagen = ImageDataGenerator(preprocessing_function=preprocess_input)\n",
        "test_generator = test_datagen.flow_from_directory(\n",
        "    directory=r\"/content/pro_data/Dev\",\n",
        "    target_size=(224, 224),\n",
        "    color_mode=\"rgb\",\n",
        "    batch_size=128,\n",
        "    class_mode='categorical',\n",
        "    shuffle=False,\n",
        "    seed=42\n",
        ")"
      ],
      "execution_count": null,
      "outputs": [
        {
          "output_type": "stream",
          "text": [
            "Found 24960 images belonging to 104 classes.\n",
            "Found 6312 images belonging to 104 classes.\n"
          ],
          "name": "stdout"
        }
      ]
    },
    {
      "cell_type": "markdown",
      "metadata": {
        "id": "A75zW36vWWrv"
      },
      "source": [
        "# STEP 2 :: Selecting and Developing an appropriate model \n"
      ]
    },
    {
      "cell_type": "code",
      "metadata": {
        "id": "AaydRAXdWTQl"
      },
      "source": [
        "\n",
        "\n",
        "# here I have chosen the VGG19 model for this purpose because heavy models are robust and may generalize well  \n",
        "# the dataset length is good enough to avoid the bias and variance problems  \n",
        "\n",
        "\n",
        "\n",
        "# IMPORTS \n",
        "\n",
        "from tensorflow.keras.layers import Dense,GlobalAveragePooling2D , BatchNormalization\n",
        "from tensorflow.keras.applications.vgg19 import VGG19\n",
        "from tensorflow.keras.models import Model\n",
        "from tensorflow.keras.optimizers import Adam\n"
      ],
      "execution_count": null,
      "outputs": []
    },
    {
      "cell_type": "code",
      "metadata": {
        "id": "Ypr3aUIiWZQZ"
      },
      "source": [
        "\n",
        "# defining the model \n",
        "\n",
        "#import the MobileNetV2  model and discards the last 1000 neuron layer.\n",
        "base_model=VGG19(include_top=False) \n",
        "x=base_model.output\n",
        "x=GlobalAveragePooling2D()(x)\n",
        "\n",
        "#we add dense layers so that the model can learn more complex functions and classify for better results\n",
        "\n",
        "#dense layer 2\n",
        "x=Dense(512,activation='relu')(x)\n",
        "x=BatchNormalization()(x)\n",
        "\n",
        "#dense layer 3\n",
        "#x=Dense(256,activation='relu')(x)\n",
        "\n",
        "#final layer with softmax activation\n",
        "preds=Dense(104,activation='softmax')(x) \n",
        "\n",
        "model=Model(inputs=base_model.input,outputs=preds)"
      ],
      "execution_count": null,
      "outputs": []
    },
    {
      "cell_type": "code",
      "metadata": {
        "id": "Yjj0QgGaWbko"
      },
      "source": [
        "for layer in model.layers[:20]:\n",
        "    layer.trainable=False\n",
        "for layer in model.layers[20:]:\n",
        "    layer.trainable=True"
      ],
      "execution_count": null,
      "outputs": []
    },
    {
      "cell_type": "code",
      "metadata": {
        "id": "3DYSZ1uSWem5",
        "colab": {
          "base_uri": "https://localhost:8080/",
          "height": 1000
        },
        "outputId": "b132242d-14bb-4d16-c1d9-c277769302f7"
      },
      "source": [
        "model.compile(optimizer='Adam',loss='categorical_crossentropy',metrics=['accuracy'])\n",
        "# Adam optimizer\n",
        "# loss function will be categorical cross entropy\n",
        "# evaluation metric will be accuracy\n",
        "\n",
        "model.summary()"
      ],
      "execution_count": null,
      "outputs": [
        {
          "output_type": "stream",
          "text": [
            "Model: \"model_4\"\n",
            "_________________________________________________________________\n",
            "Layer (type)                 Output Shape              Param #   \n",
            "=================================================================\n",
            "input_5 (InputLayer)         [(None, None, None, 3)]   0         \n",
            "_________________________________________________________________\n",
            "block1_conv1 (Conv2D)        (None, None, None, 64)    1792      \n",
            "_________________________________________________________________\n",
            "block1_conv2 (Conv2D)        (None, None, None, 64)    36928     \n",
            "_________________________________________________________________\n",
            "block1_pool (MaxPooling2D)   (None, None, None, 64)    0         \n",
            "_________________________________________________________________\n",
            "block2_conv1 (Conv2D)        (None, None, None, 128)   73856     \n",
            "_________________________________________________________________\n",
            "block2_conv2 (Conv2D)        (None, None, None, 128)   147584    \n",
            "_________________________________________________________________\n",
            "block2_pool (MaxPooling2D)   (None, None, None, 128)   0         \n",
            "_________________________________________________________________\n",
            "block3_conv1 (Conv2D)        (None, None, None, 256)   295168    \n",
            "_________________________________________________________________\n",
            "block3_conv2 (Conv2D)        (None, None, None, 256)   590080    \n",
            "_________________________________________________________________\n",
            "block3_conv3 (Conv2D)        (None, None, None, 256)   590080    \n",
            "_________________________________________________________________\n",
            "block3_conv4 (Conv2D)        (None, None, None, 256)   590080    \n",
            "_________________________________________________________________\n",
            "block3_pool (MaxPooling2D)   (None, None, None, 256)   0         \n",
            "_________________________________________________________________\n",
            "block4_conv1 (Conv2D)        (None, None, None, 512)   1180160   \n",
            "_________________________________________________________________\n",
            "block4_conv2 (Conv2D)        (None, None, None, 512)   2359808   \n",
            "_________________________________________________________________\n",
            "block4_conv3 (Conv2D)        (None, None, None, 512)   2359808   \n",
            "_________________________________________________________________\n",
            "block4_conv4 (Conv2D)        (None, None, None, 512)   2359808   \n",
            "_________________________________________________________________\n",
            "block4_pool (MaxPooling2D)   (None, None, None, 512)   0         \n",
            "_________________________________________________________________\n",
            "block5_conv1 (Conv2D)        (None, None, None, 512)   2359808   \n",
            "_________________________________________________________________\n",
            "block5_conv2 (Conv2D)        (None, None, None, 512)   2359808   \n",
            "_________________________________________________________________\n",
            "block5_conv3 (Conv2D)        (None, None, None, 512)   2359808   \n",
            "_________________________________________________________________\n",
            "block5_conv4 (Conv2D)        (None, None, None, 512)   2359808   \n",
            "_________________________________________________________________\n",
            "block5_pool (MaxPooling2D)   (None, None, None, 512)   0         \n",
            "_________________________________________________________________\n",
            "global_average_pooling2d_4 ( (None, 512)               0         \n",
            "_________________________________________________________________\n",
            "dense_10 (Dense)             (None, 512)               262656    \n",
            "_________________________________________________________________\n",
            "batch_normalization_4 (Batch (None, 512)               2048      \n",
            "_________________________________________________________________\n",
            "dense_11 (Dense)             (None, 104)               53352     \n",
            "=================================================================\n",
            "Total params: 20,342,440\n",
            "Trainable params: 2,676,840\n",
            "Non-trainable params: 17,665,600\n",
            "_________________________________________________________________\n"
          ],
          "name": "stdout"
        }
      ]
    },
    {
      "cell_type": "markdown",
      "metadata": {
        "id": "Wae-x99zWlKT"
      },
      "source": [
        "# STEP 3 : : Traning and testing the model on the data \n"
      ]
    },
    {
      "cell_type": "code",
      "metadata": {
        "id": "zs4DLzDaWgso",
        "colab": {
          "base_uri": "https://localhost:8080/",
          "height": 185
        },
        "outputId": "92105319-6652-4d46-a793-a6229364e639"
      },
      "source": [
        "step_size_train=train_generator.n//train_generator.batch_size\n",
        "\n",
        "step_size_test=test_generator.n//test_generator.batch_size\n",
        "\n",
        "\n",
        "\n",
        "history = model.fit(\n",
        "    train_generator,\n",
        "    steps_per_epoch = step_size_train,\n",
        "    validation_data = test_generator, \n",
        "    validation_steps = step_size_test,\n",
        "    epochs = 5)"
      ],
      "execution_count": null,
      "outputs": [
        {
          "output_type": "stream",
          "text": [
            "Epoch 1/5\n",
            "195/195 [==============================] - 87s 448ms/step - loss: 1.2561 - accuracy: 0.7225 - val_loss: 1.1292 - val_accuracy: 0.7538\n",
            "Epoch 2/5\n",
            "195/195 [==============================] - 87s 447ms/step - loss: 0.3566 - accuracy: 0.9186 - val_loss: 0.6478 - val_accuracy: 0.8340\n",
            "Epoch 3/5\n",
            "195/195 [==============================] - 87s 448ms/step - loss: 0.1497 - accuracy: 0.9673 - val_loss: 0.4319 - val_accuracy: 0.8852\n",
            "Epoch 4/5\n",
            "195/195 [==============================] - 87s 447ms/step - loss: 0.0552 - accuracy: 0.9906 - val_loss: 0.3913 - val_accuracy: 0.9013\n",
            "Epoch 5/5\n",
            "195/195 [==============================] - 87s 448ms/step - loss: 0.0237 - accuracy: 0.9966 - val_loss: 0.3551 - val_accuracy: 0.9173\n"
          ],
          "name": "stdout"
        }
      ]
    },
    {
      "cell_type": "markdown",
      "metadata": {
        "id": "gDS6QeGpN7JH"
      },
      "source": [
        "# conclusion \n",
        "\n",
        "The Traning accuracy is good enough \n",
        "The testing accuracy is also good (91.7%) but needs some improvement \n"
      ]
    }
  ]
}